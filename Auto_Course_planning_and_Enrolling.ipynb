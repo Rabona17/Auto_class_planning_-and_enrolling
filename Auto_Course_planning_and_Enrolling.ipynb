{
 "cells": [
  {
   "cell_type": "code",
   "execution_count": 117,
   "metadata": {},
   "outputs": [],
   "source": [
    "#Auto_Login\n",
    "from selenium import webdriver\n",
    "from selenium.webdriver.support.ui import Select\n",
    "import time\n",
    "import datetime\n",
    "import numpy as np\n",
    "from datascience import *\n",
    "from bs4 import BeautifulSoup"
   ]
  },
  {
   "cell_type": "code",
   "execution_count": 118,
   "metadata": {},
   "outputs": [],
   "source": [
    "def Auto_Remove_From_Plan(username, password, number_of_courses):\n",
    "    driver = webdriver.Chrome()\n",
    "    driver.get('https://act.ucsd.edu/webreg2')\n",
    "    driver.find_element_by_xpath('//*[@id=\"ssousername\"]').clear()\n",
    "    driver.find_element_by_xpath('//*[@id=\"ssousername\"]').send_keys(username)\n",
    "    driver.find_element_by_xpath('//*[@id=\"ssopassword\"]').clear()\n",
    "    driver.find_element_by_xpath('//*[@id=\"ssopassword\"]').send_keys(password)\n",
    "    time.sleep(1)\n",
    "    driver.find_element_by_xpath('//*[@id=\"login\"]/button').click()\n",
    "    time.sleep(2)\n",
    "    #return driver.current_url\n",
    "    driver.find_element_by_xpath('//*[@id=\"startpage-button-go\"]').click()\n",
    "    for i in np.arange(0,number_of_courses):\n",
    "        driver.find_element_by_id('grid-drop-plan-id-0').click()\n",
    "        time.sleep(1)\n",
    "        driver.find_element_by_xpath('/html/body/div[30]/div[3]/div/button[2]').click()\n",
    "        time.sleep(1)\n",
    "        driver.find_element_by_xpath('//*[@id=\"dialog-after-action-close\"]').click()\n",
    "\n",
    "def get_id(html, name_of_course):\n",
    "    soup = BeautifulSoup(html, 'lxml')\n",
    "    for i in np.arange(len(soup.find_all(\"tr\", {\"id\": True}))-1):\n",
    "        if name_of_course in soup.find_all('tr')[i].find('td').text.replace(' ',''):\n",
    "            return i\n",
    "\n",
    "def Auto_enroll(username, password, name_of_courses):#@name_of_course: should be a list\n",
    "    driver = webdriver.Chrome()\n",
    "    driver.get('https://act.ucsd.edu/webreg2')\n",
    "    driver.find_element_by_xpath('//*[@id=\"ssousername\"]').clear()\n",
    "    driver.find_element_by_xpath('//*[@id=\"ssousername\"]').send_keys(username)\n",
    "    driver.find_element_by_xpath('//*[@id=\"ssopassword\"]').clear()\n",
    "    driver.find_element_by_xpath('//*[@id=\"ssopassword\"]').send_keys(password)\n",
    "    time.sleep(1)\n",
    "    driver.find_element_by_xpath('//*[@id=\"login\"]/button').click()\n",
    "    time.sleep(1.5)\n",
    "    #return driver.current_url\n",
    "    driver.find_element_by_xpath('//*[@id=\"startpage-button-go\"]').click()\n",
    "    for n in name_of_courses:\n",
    "        html = driver.find_element_by_id('list-id-table').get_attribute('innerHTML')\n",
    "        cid = get_id(html, n)-1\n",
    "        driver.find_element_by_xpath('//*[@id=\"grid-edit-plan-id-enroll-'+str(cid)+'\"'+']').click()\n",
    "        time.sleep(0.5)\n",
    "        driver.find_element_by_xpath('/html/body/div[28]/div[3]/div/button[2]').click()\n",
    "        time.sleep(0.5)\n",
    "        driver.find_element_by_xpath('//*[@id=\"dialog-after-action-close\"]').click()\n",
    "    print('nice!!!!!!!!!!!!!!!!!!!!!!!!!!!!!!!!!!!!')"
   ]
  },
  {
   "cell_type": "code",
   "execution_count": 1,
   "metadata": {},
   "outputs": [],
   "source": [
    "#Auto_enroll(your username, your password, ['palnnedclass1','plannedclass2'...])"
   ]
  }
 ],
 "metadata": {
  "kernelspec": {
   "display_name": "Python 3",
   "language": "python",
   "name": "python3"
  },
  "language_info": {
   "codemirror_mode": {
    "name": "ipython",
    "version": 3
   },
   "file_extension": ".py",
   "mimetype": "text/x-python",
   "name": "python",
   "nbconvert_exporter": "python",
   "pygments_lexer": "ipython3",
   "version": "3.6.5"
  }
 },
 "nbformat": 4,
 "nbformat_minor": 2
}
